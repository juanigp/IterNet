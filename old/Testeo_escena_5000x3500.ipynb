{
  "nbformat": 4,
  "nbformat_minor": 0,
  "metadata": {
    "colab": {
      "name": "Testeo escena 5000x3500",
      "provenance": [],
      "collapsed_sections": [],
      "toc_visible": true,
      "authorship_tag": "ABX9TyN9THYi2LsE8Iw74klvJizr",
      "include_colab_link": true
    },
    "kernelspec": {
      "name": "python3",
      "display_name": "Python 3"
    },
    "accelerator": "GPU"
  },
  "cells": [
    {
      "cell_type": "markdown",
      "metadata": {
        "id": "view-in-github",
        "colab_type": "text"
      },
      "source": [
        "<a href=\"https://colab.research.google.com/github/juanigp/IterNet/blob/master/Testeo_escena_5000x3500.ipynb\" target=\"_parent\"><img src=\"https://colab.research.google.com/assets/colab-badge.svg\" alt=\"Open In Colab\"/></a>"
      ]
    },
    {
      "cell_type": "markdown",
      "metadata": {
        "id": "OmKj6O9NCwDh",
        "colab_type": "text"
      },
      "source": [
        "# Notebook para segmentar la escena de 5000x3500"
      ]
    },
    {
      "cell_type": "code",
      "metadata": {
        "id": "3KhNjfXfv6qc",
        "colab_type": "code",
        "outputId": "b3844fc9-7141-4529-fcbd-20a810f1407c",
        "colab": {
          "base_uri": "https://localhost:8080/",
          "height": 165
        }
      },
      "source": [
        "!git clone https://github.com/juanigp/IterNet\n",
        "%cd /content/IterNet"
      ],
      "execution_count": 1,
      "outputs": [
        {
          "output_type": "stream",
          "text": [
            "Cloning into 'IterNet'...\n",
            "remote: Enumerating objects: 24, done.\u001b[K\n",
            "remote: Counting objects: 100% (24/24), done.\u001b[K\n",
            "remote: Compressing objects: 100% (16/16), done.\u001b[K\n",
            "remote: Total 177 (delta 7), reused 15 (delta 4), pack-reused 153\u001b[K\n",
            "Receiving objects: 100% (177/177), 109.12 MiB | 5.67 MiB/s, done.\n",
            "Resolving deltas: 100% (84/84), done.\n",
            "/content/IterNet\n"
          ],
          "name": "stdout"
        }
      ]
    },
    {
      "cell_type": "markdown",
      "metadata": {
        "id": "e8Et1XJtDE6A",
        "colab_type": "text"
      },
      "source": [
        "Colab se cierra si la imagen de entrada es muy grande, o si se quiere testear muchas imagenes a la vez. Lo siguiente es para extraer recortes de 500x500, con stride 250x250, de a 20 por vez, testearlos, borrar esa data y continuar con los proximos 20. El algoritmo tiene algun error porque genera algunas imagenes duplicadas."
      ]
    },
    {
      "cell_type": "code",
      "metadata": {
        "id": "OgrLTl8lxzhg",
        "colab_type": "code",
        "colab": {}
      },
      "source": [
        "from PIL import Image\n",
        "from glob import glob\n",
        "import re\n",
        "import pickle\n",
        "import predict\n",
        "import numpy as np\n",
        "scene_dir = r'raw data/escena 2/escena 2_5000x3500.bmp'\n",
        "#mask_dir = r'raw data/escena 2/escena 2_5000x3500.gif'\n",
        "scene = np.array( Image.open(scene_dir) )\n",
        "#mask = np.array( Image.open(mask_dir) )\n",
        "v_x, v_y = 500, 500\n",
        "s_x, s_y = 250, 250\n",
        "count = 0\n",
        "big_batch = 20\n",
        "for i in range(v_x - 1, scene.shape[0] + s_x, s_x):\n",
        "  for j in range (v_y - 1, scene.shape[1] + s_y, s_y):\n",
        "    #crear los 20 recortes y guardarlos en el directorio de entrada para la red\n",
        "    i_max = min(i, scene.shape[0] - 1)\n",
        "    j_max = min(j, scene.shape[1] - 1)\n",
        "    i_min, j_min = i_max -(v_x - 1), j_max -(v_y - 1)\n",
        "    patch_scene =  np.zeros([v_x, v_y, 3])\n",
        "    #patch_mask =  np.zeros([v_x, v_y])\n",
        "    patch_scene[0 : v_x, 0 : v_y] = scene[i_min:(i_max+1), j_min:(j_max+1)]\n",
        "    #patch_mask[0 : v_x, 0 : v_y] = mask[i_min:(i_max+1), j_min:(j_max+1)]\n",
        "    patch_scene = patch_scene.astype(np.uint8)\n",
        "    patch_scene_img = Image.fromarray(patch_scene)\n",
        "    #patch_mask_img = Image.fromarray(patch_mask)\n",
        "    count += 1   \n",
        "    patch_scene_img.save(r'data/DRIVE/test/images/'+format(count, '05d')+'.bmp')\n",
        "    #patch_mask_img.save(r'data/DRIVE/test/1st_manual/'+format(count, '05d')+'.gif')\n",
        "    #cuando se tienen 20:\n",
        "    if (count % big_batch == 0):\n",
        "      #prediccion\n",
        "      predict.predict(stride_size=10)\n",
        "      #todos los .pickle generados\n",
        "      files = glob(r\"output/DRIVE/crop_size_128/out4/*.pickle\")\n",
        "      for f in files:\n",
        "        #se guarda cada pickle en el directorio results, y tambien se exporta como imagen\n",
        "        #es importante que que los resultados queden registrados con el nombre correcto para poder comparar!!!\n",
        "        pkl = pickle.load(open( f, \"rb\" ) )\n",
        "        im = Image.fromarray(pkl*255)\n",
        "        im = im.convert(\"L\")\n",
        "        result = re.search('out4/(.*).pickle', f)\n",
        "        name = str( int( result.group(1) ) + count - big_batch )\n",
        "        im.save(r'results/' + name + '.png')\n",
        "        pickle.dump( pkl, open( r'results/' + name + '.pickle', \"wb\" ) )\n",
        "      #se copian los recortes originales y sus mascaras, y luego se eliminan para dejar lugar a los proximos 20 recortes\n",
        "      %cp -r data/DRIVE/test/images/* results\n",
        "      %cp -r data/DRIVE/test/1st_manual/* results\n",
        "      %rm data/DRIVE/test/images/*\n",
        "      %rm data/DRIVE/test/1st_manual/*\n",
        "      %rm -rf data/HDF5\n",
        "      %rm -rf output\n",
        "\n",
        "#si quedaron recortes sin analizar:\n",
        "if (count % big_batch != 0):\n",
        "  predict.predict(stride_size=10)\n",
        "  files = glob(r\"output/DRIVE/crop_size_128/out4/*.pickle\")\n",
        "  for f in files:\n",
        "    pkl = pickle.load(open( f, \"rb\" ) )\n",
        "    im = Image.fromarray(pkl*255)\n",
        "    im = im.convert(\"L\")\n",
        "    result = re.search('out4/(.*).pickle', f)\n",
        "    name = str( int( result.group(1) ) + count - (count % big_batch) )\n",
        "    im.save(r'results/' + name + '.png')\n",
        "  %cp -r data/DRIVE/test/images/* results\n",
        "  %cp -r data/DRIVE/test/1st_manual/* results\n",
        "  %rm data/DRIVE/test/images/*\n",
        "  %rm data/DRIVE/test/1st_manual/*\n",
        "  %rm -rf output\n",
        "    "
      ],
      "execution_count": 0,
      "outputs": []
    },
    {
      "cell_type": "code",
      "metadata": {
        "id": "9DN3lWemFFFf",
        "colab_type": "code",
        "colab": {}
      },
      "source": [
        "#Copiar todo a un Google Drive\n",
        "from google.colab import drive\n",
        "drive.mount('/gdrive', force_remount = True)\n",
        "\n",
        "%mkdir \"/gdrive/My Drive/big_scene_results\" #o el directorio que se quiera\n",
        "%cp -r results \"/gdrive/My Drive/big_scene_results\"\n"
      ],
      "execution_count": 0,
      "outputs": []
    }
  ]
}