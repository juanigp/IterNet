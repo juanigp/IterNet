{
  "nbformat": 4,
  "nbformat_minor": 0,
  "metadata": {
    "colab": {
      "name": "Testeo escena 5000x3500",
      "provenance": [],
      "collapsed_sections": [],
      "toc_visible": true,
      "authorship_tag": "ABX9TyP7AiFI4t/wku6J9xa1i+FE",
      "include_colab_link": true
    },
    "kernelspec": {
      "name": "python3",
      "display_name": "Python 3"
    },
    "accelerator": "GPU"
  },
  "cells": [
    {
      "cell_type": "markdown",
      "metadata": {
        "id": "view-in-github",
        "colab_type": "text"
      },
      "source": [
        "<a href=\"https://colab.research.google.com/github/juanigp/IterNet/blob/master/Testeo_escena_5000x3500.ipynb\" target=\"_parent\"><img src=\"https://colab.research.google.com/assets/colab-badge.svg\" alt=\"Open In Colab\"/></a>"
      ]
    },
    {
      "cell_type": "markdown",
      "metadata": {
        "id": "OmKj6O9NCwDh",
        "colab_type": "text"
      },
      "source": [
        "# Notebook para segmentar la escena de 5000x3500"
      ]
    },
    {
      "cell_type": "code",
      "metadata": {
        "id": "3KhNjfXfv6qc",
        "colab_type": "code",
        "outputId": "52f64a68-bd3d-4cda-a885-c321fffd5fa5",
        "colab": {
          "base_uri": "https://localhost:8080/",
          "height": 182
        }
      },
      "source": [
        "!git clone https://github.com/juanigp/IterNet\n",
        "%cd /content/IterNet"
      ],
      "execution_count": 0,
      "outputs": [
        {
          "output_type": "stream",
          "text": [
            "fatal: destination path 'IterNet' already exists and is not an empty directory.\n",
            "Mounted at /gdrive\n",
            "/content/IterNet\n",
            "Archive:  /gdrive/My Drive/tidal segmentation/3x2y.zip\n",
            "  inflating: escena 2_5000x3500.gif  \n",
            "  inflating: escena 2_5000x3500.bmp  \n",
            "mkdir: cannot create directory ‘trained_model’: File exists\n",
            "mkdir: cannot create directory ‘trained_model/DRIVE’: File exists\n",
            "mkdir: cannot create directory ‘results’: File exists\n"
          ],
          "name": "stdout"
        }
      ]
    },
    {
      "cell_type": "markdown",
      "metadata": {
        "id": "e8Et1XJtDE6A",
        "colab_type": "text"
      },
      "source": [
        "Colab se cierra si la imagen de entrada es muy grande, o si se quiere testear muchas imagenes a la vez. Lo siguiente es para extraer recortes de 500x500, con stride 250x250, de a 20 por vez, testearlos, borrar esa data y continuar con los proximos 20. El algoritmo tiene algun error porque genera algunas imagenes duplicadas."
      ]
    },
    {
      "cell_type": "code",
      "metadata": {
        "id": "OgrLTl8lxzhg",
        "colab_type": "code",
        "outputId": "e1ea43a9-bccf-445c-8bef-19d8e445a76a",
        "colab": {
          "base_uri": "https://localhost:8080/",
          "height": 1000
        }
      },
      "source": [
        "from PIL import Image\n",
        "from glob import glob\n",
        "import re\n",
        "import pickle\n",
        "import predict\n",
        "import numpy as np\n",
        "scene_dir = r'raw data/escena 2/escena 2_5000x3500.bmp'\n",
        "mask_dir = r'raw data/escena 2/escena 2_5000x3500.gif'\n",
        "scene = np.array( Image.open(scene_dir) )\n",
        "mask = np.array( Image.open(mask_dir) )\n",
        "v_x, v_y = 500, 500\n",
        "s_x, s_y = 250, 250\n",
        "count = 0\n",
        "big_batch = 20\n",
        "for i in range(v_x - 1, scene.shape[0] + s_x, s_x):\n",
        "  for j in range (v_y - 1, scene.shape[1] + s_y, s_y):\n",
        "    #crear los 20 recortes y guardarlos en el directorio de entrada para la red\n",
        "    i_max = min(i, scene.shape[0] - 1)\n",
        "    j_max = min(j, scene.shape[1] - 1)\n",
        "    i_min, j_min = i_max -(v_x - 1), j_max -(v_y - 1)\n",
        "    patch_scene =  np.zeros([v_x, v_y, 3])\n",
        "    patch_mask =  np.zeros([v_x, v_y])\n",
        "    patch_scene[0 : v_x, 0 : v_y] = scene[i_min:(i_max+1), j_min:(j_max+1)]\n",
        "    patch_mask[0 : v_x, 0 : v_y] = mask[i_min:(i_max+1), j_min:(j_max+1)]\n",
        "    patch_scene = patch_scene.astype(np.uint8)\n",
        "    patch_scene_img = Image.fromarray(patch_scene)\n",
        "    patch_mask_img = Image.fromarray(patch_mask)\n",
        "    count += 1   \n",
        "    patch_scene_img.save(r'data/DRIVE/test/images/'+format(count, '05d')+'.bmp')\n",
        "    patch_mask_img.save(r'data/DRIVE/test/1st_manual/'+format(count, '05d')+'.gif')\n",
        "    #cuando se tienen 20:\n",
        "    if (count % big_batch == 0):\n",
        "      #prediccion\n",
        "      predict.predict(stride_size=10)\n",
        "      #todos los .pickle generados\n",
        "      files = glob(r\"output/DRIVE/crop_size_128/out4/*.pickle\")\n",
        "      for f in files:\n",
        "        #se guarda cada pickle en el directorio results, y tambien se exporta como imagen\n",
        "        #es importante que que los resultados queden registrados con el nombre correcto para poder comparar!!!\n",
        "        pkl = pickle.load(open( f, \"rb\" ) )\n",
        "        im = Image.fromarray(pkl*255)\n",
        "        im = im.convert(\"L\")\n",
        "        result = re.search('out4/(.*).pickle', f)\n",
        "        name = str( int( result.group(1) ) + count - big_batch )\n",
        "        im.save(r'results/' + name + '.png')\n",
        "        pickle.dump( pkl, open( r'results/' + name + '.pickle', \"wb\" ) )\n",
        "      #se copian los recortes originales y sus mascaras, y luego se eliminan para dejar lugar a los proximos 20 recortes\n",
        "      %cp -r data/DRIVE/test/images/* results\n",
        "      %cp -r data/DRIVE/test/1st_manual/* results\n",
        "      %rm data/DRIVE/test/images/*\n",
        "      %rm data/DRIVE/test/1st_manual/*\n",
        "      %rm -rf data/HDF5\n",
        "      %rm -rf output\n",
        "\n",
        "#si quedaron recortes sin analizar:\n",
        "if (count % big_batch != 0):\n",
        "  predict.predict(stride_size=10)\n",
        "  files = glob(r\"output/DRIVE/crop_size_128/out4/*.pickle\")\n",
        "  for f in files:\n",
        "    pkl = pickle.load(open( f, \"rb\" ) )\n",
        "    im = Image.fromarray(pkl*255)\n",
        "    im = im.convert(\"L\")\n",
        "    result = re.search('out4/(.*).pickle', f)\n",
        "    name = str( int( result.group(1) ) + count - (count % big_batch) )\n",
        "    im.save(r'results/' + name + '.png')\n",
        "  %cp -r data/DRIVE/test/images/* results\n",
        "  %cp -r data/DRIVE/test/1st_manual/* results\n",
        "  %rm data/DRIVE/test/images/*\n",
        "  %rm data/DRIVE/test/1st_manual/*\n",
        "  %rm -rf output\n",
        "    "
      ],
      "execution_count": 0,
      "outputs": [
        {
          "output_type": "stream",
          "text": [
            "Automatic pdb calling has been turned OFF\n",
            "Model : Final_Emer_Iteration_3_cropsize_128_epochs_200\n"
          ],
          "name": "stdout"
        },
        {
          "output_type": "stream",
          "text": [
            "\n",
            "  0%|          | 0/20 [00:00<?, ?it/s]\u001b[A\n",
            "  5%|▌         | 1/20 [00:12<03:52, 12.23s/it]\u001b[A\n",
            " 10%|█         | 2/20 [00:23<03:36, 12.05s/it]\u001b[A\n",
            " 15%|█▌        | 3/20 [00:35<03:22, 11.93s/it]\u001b[A\n",
            " 20%|██        | 4/20 [00:47<03:09, 11.84s/it]\u001b[A\n",
            " 25%|██▌       | 5/20 [00:58<02:56, 11.79s/it]\u001b[A\n",
            " 30%|███       | 6/20 [01:10<02:44, 11.74s/it]\u001b[A\n",
            " 35%|███▌      | 7/20 [01:22<02:32, 11.72s/it]\u001b[A\n",
            " 40%|████      | 8/20 [01:33<02:20, 11.69s/it]\u001b[A\n",
            " 45%|████▌     | 9/20 [01:45<02:08, 11.68s/it]\u001b[A\n",
            " 50%|█████     | 10/20 [01:57<01:56, 11.69s/it]\u001b[A\n",
            " 55%|█████▌    | 11/20 [02:08<01:44, 11.65s/it]\u001b[A\n",
            " 60%|██████    | 12/20 [02:20<01:32, 11.62s/it]\u001b[A\n",
            " 65%|██████▌   | 13/20 [02:31<01:21, 11.59s/it]\u001b[A\n",
            " 70%|███████   | 14/20 [02:43<01:09, 11.61s/it]\u001b[A\n",
            " 75%|███████▌  | 15/20 [02:54<00:57, 11.59s/it]\u001b[A\n",
            " 80%|████████  | 16/20 [03:07<00:47, 11.84s/it]\u001b[A\n",
            " 85%|████████▌ | 17/20 [03:18<00:35, 11.76s/it]\u001b[A\n",
            " 90%|█████████ | 18/20 [03:30<00:23, 11.68s/it]\u001b[A\n",
            " 95%|█████████▌| 19/20 [03:41<00:11, 11.65s/it]\u001b[A\n",
            "100%|██████████| 20/20 [03:53<00:00, 11.63s/it]\u001b[A\n",
            "\u001b[A"
          ],
          "name": "stderr"
        },
        {
          "output_type": "stream",
          "text": [
            "Model : Final_Emer_Iteration_3_cropsize_128_epochs_200\n"
          ],
          "name": "stdout"
        },
        {
          "output_type": "stream",
          "text": [
            "\n",
            "  0%|          | 0/20 [00:00<?, ?it/s]\u001b[A\n",
            "  5%|▌         | 1/20 [00:12<03:53, 12.29s/it]\u001b[A\n",
            " 10%|█         | 2/20 [00:23<03:37, 12.09s/it]\u001b[A\n",
            " 15%|█▌        | 3/20 [00:35<03:22, 11.94s/it]\u001b[A\n",
            " 20%|██        | 4/20 [00:47<03:09, 11.83s/it]\u001b[A\n",
            " 25%|██▌       | 5/20 [00:58<02:57, 11.84s/it]\u001b[A\n",
            " 30%|███       | 6/20 [01:10<02:44, 11.78s/it]\u001b[A\n",
            " 35%|███▌      | 7/20 [01:22<02:32, 11.75s/it]\u001b[A\n",
            " 40%|████      | 8/20 [01:33<02:20, 11.71s/it]\u001b[A\n",
            " 45%|████▌     | 9/20 [01:45<02:08, 11.67s/it]\u001b[A\n",
            " 50%|█████     | 10/20 [01:57<01:56, 11.67s/it]\u001b[A\n",
            " 55%|█████▌    | 11/20 [02:08<01:44, 11.65s/it]\u001b[A\n",
            " 60%|██████    | 12/20 [02:20<01:33, 11.66s/it]\u001b[A\n",
            " 65%|██████▌   | 13/20 [02:31<01:21, 11.64s/it]\u001b[A\n",
            " 70%|███████   | 14/20 [02:43<01:10, 11.69s/it]\u001b[A\n",
            " 75%|███████▌  | 15/20 [02:55<00:58, 11.67s/it]\u001b[A\n",
            " 80%|████████  | 16/20 [03:07<00:46, 11.68s/it]\u001b[A\n",
            " 85%|████████▌ | 17/20 [03:18<00:34, 11.66s/it]\u001b[A\n",
            " 90%|█████████ | 18/20 [03:30<00:23, 11.65s/it]\u001b[A\n",
            " 95%|█████████▌| 19/20 [03:42<00:11, 11.70s/it]\u001b[A\n",
            "100%|██████████| 20/20 [03:54<00:00, 11.79s/it]\u001b[A\n",
            "\u001b[A"
          ],
          "name": "stderr"
        },
        {
          "output_type": "stream",
          "text": [
            "Model : Final_Emer_Iteration_3_cropsize_128_epochs_200\n"
          ],
          "name": "stdout"
        },
        {
          "output_type": "stream",
          "text": [
            "\n",
            "  0%|          | 0/20 [00:00<?, ?it/s]\u001b[A\n",
            "  5%|▌         | 1/20 [00:12<03:58, 12.55s/it]\u001b[A\n",
            " 10%|█         | 2/20 [00:24<03:42, 12.35s/it]\u001b[A\n",
            " 15%|█▌        | 3/20 [00:36<03:26, 12.15s/it]\u001b[A\n",
            " 20%|██        | 4/20 [00:47<03:12, 12.02s/it]\u001b[A\n",
            " 25%|██▌       | 5/20 [00:59<02:59, 11.94s/it]\u001b[A\n",
            " 30%|███       | 6/20 [01:11<02:46, 11.89s/it]\u001b[A\n",
            " 35%|███▌      | 7/20 [01:23<02:34, 11.85s/it]\u001b[A\n",
            " 40%|████      | 8/20 [01:34<02:22, 11.85s/it]\u001b[A\n",
            " 45%|████▌     | 9/20 [01:46<02:09, 11.80s/it]\u001b[A\n",
            " 50%|█████     | 10/20 [01:58<01:58, 11.81s/it]\u001b[A\n",
            " 55%|█████▌    | 11/20 [02:10<01:45, 11.76s/it]\u001b[A\n",
            " 60%|██████    | 12/20 [02:21<01:33, 11.74s/it]\u001b[A\n",
            " 65%|██████▌   | 13/20 [02:33<01:22, 11.77s/it]\u001b[A\n",
            " 70%|███████   | 14/20 [02:45<01:10, 11.77s/it]\u001b[A\n",
            " 75%|███████▌  | 15/20 [02:57<00:58, 11.73s/it]\u001b[A\n",
            " 80%|████████  | 16/20 [03:08<00:46, 11.74s/it]\u001b[A\n",
            " 85%|████████▌ | 17/20 [03:20<00:35, 11.70s/it]\u001b[A\n",
            " 90%|█████████ | 18/20 [03:32<00:23, 11.71s/it]\u001b[A\n",
            " 95%|█████████▌| 19/20 [03:43<00:11, 11.72s/it]\u001b[A\n",
            "100%|██████████| 20/20 [03:55<00:00, 11.72s/it]\u001b[A\n",
            "\u001b[A"
          ],
          "name": "stderr"
        },
        {
          "output_type": "stream",
          "text": [
            "Model : Final_Emer_Iteration_3_cropsize_128_epochs_200\n"
          ],
          "name": "stdout"
        },
        {
          "output_type": "stream",
          "text": [
            "\n",
            "  0%|          | 0/20 [00:00<?, ?it/s]\u001b[A\n",
            "  5%|▌         | 1/20 [00:12<04:01, 12.74s/it]\u001b[A\n",
            " 10%|█         | 2/20 [00:24<03:43, 12.44s/it]\u001b[A\n",
            " 15%|█▌        | 3/20 [00:36<03:28, 12.24s/it]\u001b[A\n",
            " 20%|██        | 4/20 [00:47<03:13, 12.08s/it]\u001b[A\n",
            " 25%|██▌       | 5/20 [00:59<02:59, 11.96s/it]\u001b[A\n",
            " 30%|███       | 6/20 [01:11<02:46, 11.92s/it]\u001b[A\n",
            " 35%|███▌      | 7/20 [01:23<02:34, 11.86s/it]\u001b[A\n",
            " 40%|████      | 8/20 [01:34<02:21, 11.83s/it]\u001b[A\n",
            " 45%|████▌     | 9/20 [01:46<02:09, 11.78s/it]\u001b[A\n",
            " 50%|█████     | 10/20 [01:58<01:57, 11.77s/it]\u001b[A\n",
            " 55%|█████▌    | 11/20 [02:10<01:45, 11.75s/it]\u001b[A\n",
            " 60%|██████    | 12/20 [02:21<01:33, 11.74s/it]\u001b[A\n",
            " 65%|██████▌   | 13/20 [02:33<01:22, 11.72s/it]\u001b[A\n",
            " 70%|███████   | 14/20 [02:45<01:10, 11.74s/it]\u001b[A\n",
            " 75%|███████▌  | 15/20 [02:56<00:58, 11.73s/it]\u001b[A\n",
            " 80%|████████  | 16/20 [03:08<00:46, 11.74s/it]\u001b[A\n",
            " 85%|████████▌ | 17/20 [03:20<00:35, 11.75s/it]\u001b[A\n",
            " 90%|█████████ | 18/20 [03:32<00:23, 11.75s/it]\u001b[A\n",
            " 95%|█████████▌| 19/20 [03:43<00:11, 11.76s/it]\u001b[A\n",
            "100%|██████████| 20/20 [03:55<00:00, 11.78s/it]\u001b[A\n",
            "\u001b[A"
          ],
          "name": "stderr"
        },
        {
          "output_type": "stream",
          "text": [
            "Model : Final_Emer_Iteration_3_cropsize_128_epochs_200\n"
          ],
          "name": "stdout"
        },
        {
          "output_type": "stream",
          "text": [
            "\n",
            "  0%|          | 0/20 [00:00<?, ?it/s]\u001b[A\n",
            "  5%|▌         | 1/20 [00:13<04:08, 13.08s/it]\u001b[A\n",
            " 10%|█         | 2/20 [00:24<03:48, 12.70s/it]\u001b[A\n",
            " 15%|█▌        | 3/20 [00:36<03:31, 12.45s/it]\u001b[A\n",
            " 20%|██        | 4/20 [00:48<03:16, 12.30s/it]\u001b[A\n",
            " 25%|██▌       | 5/20 [01:00<03:02, 12.16s/it]\u001b[A\n",
            " 30%|███       | 6/20 [01:12<02:48, 12.04s/it]\u001b[A\n",
            " 35%|███▌      | 7/20 [01:24<02:35, 11.97s/it]\u001b[A\n",
            " 40%|████      | 8/20 [01:35<02:22, 11.92s/it]\u001b[A\n",
            " 45%|████▌     | 9/20 [01:47<02:10, 11.90s/it]\u001b[A\n",
            " 50%|█████     | 10/20 [01:59<01:58, 11.87s/it]\u001b[A\n",
            " 55%|█████▌    | 11/20 [02:11<01:46, 11.83s/it]\u001b[A\n",
            " 60%|██████    | 12/20 [02:22<01:34, 11.78s/it]\u001b[A\n",
            " 65%|██████▌   | 13/20 [02:34<01:22, 11.75s/it]\u001b[A\n",
            " 70%|███████   | 14/20 [02:46<01:10, 11.75s/it]\u001b[A\n",
            " 75%|███████▌  | 15/20 [02:58<00:58, 11.74s/it]\u001b[A\n",
            " 80%|████████  | 16/20 [03:09<00:47, 11.76s/it]\u001b[A\n",
            " 85%|████████▌ | 17/20 [03:21<00:35, 11.74s/it]\u001b[A\n",
            " 90%|█████████ | 18/20 [03:34<00:23, 11.94s/it]\u001b[A\n",
            " 95%|█████████▌| 19/20 [03:45<00:11, 11.90s/it]\u001b[A\n",
            "100%|██████████| 20/20 [03:57<00:00, 11.92s/it]\u001b[A\n",
            "\u001b[A"
          ],
          "name": "stderr"
        },
        {
          "output_type": "stream",
          "text": [
            "Model : Final_Emer_Iteration_3_cropsize_128_epochs_200\n"
          ],
          "name": "stdout"
        },
        {
          "output_type": "stream",
          "text": [
            "\n",
            "  0%|          | 0/20 [00:00<?, ?it/s]\u001b[A\n",
            "  5%|▌         | 1/20 [00:12<04:05, 12.90s/it]\u001b[A\n",
            " 10%|█         | 2/20 [00:24<03:46, 12.57s/it]\u001b[A\n",
            " 15%|█▌        | 3/20 [00:36<03:29, 12.31s/it]\u001b[A\n",
            " 20%|██        | 4/20 [00:48<03:13, 12.11s/it]\u001b[A\n",
            " 25%|██▌       | 5/20 [00:59<02:59, 11.98s/it]\u001b[A\n",
            " 30%|███       | 6/20 [01:11<02:46, 11.90s/it]\u001b[A\n",
            " 35%|███▌      | 7/20 [01:23<02:34, 11.88s/it]\u001b[A\n",
            " 40%|████      | 8/20 [01:35<02:22, 11.84s/it]\u001b[A\n",
            " 45%|████▌     | 9/20 [01:46<02:09, 11.77s/it]\u001b[A\n",
            " 50%|█████     | 10/20 [01:58<01:57, 11.75s/it]\u001b[A\n",
            " 55%|█████▌    | 11/20 [02:09<01:45, 11.71s/it]\u001b[A\n",
            " 60%|██████    | 12/20 [02:21<01:33, 11.69s/it]\u001b[A\n",
            " 65%|██████▌   | 13/20 [02:33<01:21, 11.68s/it]\u001b[A\n",
            " 70%|███████   | 14/20 [02:44<01:10, 11.68s/it]\u001b[A\n",
            " 75%|███████▌  | 15/20 [02:56<00:58, 11.68s/it]\u001b[A\n",
            " 80%|████████  | 16/20 [03:08<00:46, 11.74s/it]\u001b[A\n",
            " 85%|████████▌ | 17/20 [03:20<00:35, 11.69s/it]\u001b[A\n",
            " 90%|█████████ | 18/20 [03:31<00:23, 11.70s/it]\u001b[A\n",
            " 95%|█████████▌| 19/20 [03:43<00:11, 11.72s/it]\u001b[A\n",
            "100%|██████████| 20/20 [03:55<00:00, 11.72s/it]\u001b[A\n",
            "\u001b[A"
          ],
          "name": "stderr"
        },
        {
          "output_type": "stream",
          "text": [
            "Model : Final_Emer_Iteration_3_cropsize_128_epochs_200\n"
          ],
          "name": "stdout"
        },
        {
          "output_type": "stream",
          "text": [
            "\n",
            "  0%|          | 0/20 [00:00<?, ?it/s]\u001b[A\n",
            "  5%|▌         | 1/20 [00:13<04:08, 13.09s/it]\u001b[A\n",
            " 10%|█         | 2/20 [00:24<03:48, 12.68s/it]\u001b[A\n",
            " 15%|█▌        | 3/20 [00:36<03:30, 12.37s/it]\u001b[A\n",
            " 20%|██        | 4/20 [00:48<03:14, 12.18s/it]\u001b[A\n",
            " 25%|██▌       | 5/20 [00:59<03:00, 12.02s/it]\u001b[A\n",
            " 30%|███       | 6/20 [01:11<02:46, 11.91s/it]\u001b[A\n",
            " 35%|███▌      | 7/20 [01:23<02:33, 11.84s/it]\u001b[A\n",
            " 40%|████      | 8/20 [01:34<02:21, 11.79s/it]\u001b[A\n",
            " 45%|████▌     | 9/20 [01:46<02:09, 11.74s/it]\u001b[A\n",
            " 50%|█████     | 10/20 [01:58<01:57, 11.73s/it]\u001b[A\n",
            " 55%|█████▌    | 11/20 [02:09<01:45, 11.70s/it]\u001b[A\n",
            " 60%|██████    | 12/20 [02:21<01:33, 11.68s/it]\u001b[A\n",
            " 65%|██████▌   | 13/20 [02:33<01:21, 11.64s/it]\u001b[A\n",
            " 70%|███████   | 14/20 [02:44<01:09, 11.66s/it]\u001b[A\n",
            " 75%|███████▌  | 15/20 [02:56<00:58, 11.65s/it]\u001b[A\n",
            " 80%|████████  | 16/20 [03:08<00:46, 11.68s/it]\u001b[A\n",
            " 85%|████████▌ | 17/20 [03:19<00:34, 11.66s/it]\u001b[A\n",
            " 90%|█████████ | 18/20 [03:31<00:23, 11.66s/it]\u001b[A\n",
            " 95%|█████████▌| 19/20 [03:43<00:11, 11.66s/it]\u001b[A\n",
            "100%|██████████| 20/20 [03:54<00:00, 11.67s/it]\u001b[A\n",
            "\u001b[A"
          ],
          "name": "stderr"
        },
        {
          "output_type": "stream",
          "text": [
            "Model : Final_Emer_Iteration_3_cropsize_128_epochs_200\n"
          ],
          "name": "stdout"
        },
        {
          "output_type": "stream",
          "text": [
            "\n",
            "  0%|          | 0/20 [00:00<?, ?it/s]\u001b[A\n",
            "  5%|▌         | 1/20 [00:13<04:08, 13.08s/it]\u001b[A\n",
            " 10%|█         | 2/20 [00:25<03:49, 12.75s/it]\u001b[A\n",
            " 15%|█▌        | 3/20 [00:36<03:31, 12.43s/it]\u001b[A\n",
            " 20%|██        | 4/20 [00:48<03:15, 12.21s/it]\u001b[A\n",
            " 25%|██▌       | 5/20 [01:00<03:00, 12.05s/it]\u001b[A\n",
            " 30%|███       | 6/20 [01:11<02:47, 11.95s/it]\u001b[A\n",
            " 35%|███▌      | 7/20 [01:23<02:34, 11.86s/it]\u001b[A\n",
            " 40%|████      | 8/20 [01:35<02:21, 11.81s/it]\u001b[A\n",
            " 45%|████▌     | 9/20 [01:46<02:09, 11.76s/it]\u001b[A\n",
            " 50%|█████     | 10/20 [01:58<01:57, 11.74s/it]\u001b[A\n",
            " 55%|█████▌    | 11/20 [02:10<01:45, 11.69s/it]\u001b[A\n",
            " 60%|██████    | 12/20 [02:21<01:33, 11.68s/it]\u001b[A\n",
            " 65%|██████▌   | 13/20 [02:33<01:21, 11.66s/it]\u001b[A\n",
            " 70%|███████   | 14/20 [02:45<01:10, 11.69s/it]\u001b[A\n",
            " 75%|███████▌  | 15/20 [02:56<00:58, 11.67s/it]\u001b[A\n",
            " 80%|████████  | 16/20 [03:08<00:46, 11.70s/it]\u001b[A\n",
            " 85%|████████▌ | 17/20 [03:20<00:35, 11.70s/it]\u001b[A\n",
            " 90%|█████████ | 18/20 [03:31<00:23, 11.70s/it]\u001b[A\n",
            " 95%|█████████▌| 19/20 [03:43<00:11, 11.72s/it]\u001b[A\n",
            "100%|██████████| 20/20 [03:55<00:00, 11.73s/it]\u001b[A\n",
            "\u001b[A"
          ],
          "name": "stderr"
        },
        {
          "output_type": "stream",
          "text": [
            "Model : Final_Emer_Iteration_3_cropsize_128_epochs_200\n"
          ],
          "name": "stdout"
        },
        {
          "output_type": "stream",
          "text": [
            "\n",
            "  0%|          | 0/20 [00:00<?, ?it/s]\u001b[A\n",
            "  5%|▌         | 1/20 [00:13<04:10, 13.19s/it]\u001b[A\n",
            " 10%|█         | 2/20 [00:24<03:49, 12.77s/it]\u001b[A\n",
            " 15%|█▌        | 3/20 [00:36<03:31, 12.44s/it]\u001b[A\n",
            " 20%|██        | 4/20 [00:48<03:15, 12.21s/it]\u001b[A\n",
            " 25%|██▌       | 5/20 [01:00<03:00, 12.05s/it]\u001b[A\n",
            " 30%|███       | 6/20 [01:11<02:47, 11.95s/it]\u001b[A\n",
            " 35%|███▌      | 7/20 [01:23<02:34, 11.88s/it]\u001b[A\n",
            " 40%|████      | 8/20 [01:35<02:21, 11.82s/it]\u001b[A\n",
            " 45%|████▌     | 9/20 [01:46<02:09, 11.75s/it]\u001b[A\n",
            " 50%|█████     | 10/20 [01:58<01:57, 11.73s/it]\u001b[A\n",
            " 55%|█████▌    | 11/20 [02:10<01:45, 11.70s/it]\u001b[A\n",
            " 60%|██████    | 12/20 [02:21<01:33, 11.68s/it]\u001b[A\n",
            " 65%|██████▌   | 13/20 [02:33<01:21, 11.68s/it]\u001b[A\n",
            " 70%|███████   | 14/20 [02:45<01:10, 11.71s/it]\u001b[A\n",
            " 75%|███████▌  | 15/20 [02:56<00:58, 11.68s/it]\u001b[A\n",
            " 80%|████████  | 16/20 [03:08<00:46, 11.72s/it]\u001b[A\n",
            " 85%|████████▌ | 17/20 [03:20<00:35, 11.75s/it]\u001b[A\n",
            " 90%|█████████ | 18/20 [03:32<00:23, 11.76s/it]\u001b[A\n",
            " 95%|█████████▌| 19/20 [03:43<00:11, 11.77s/it]\u001b[A\n",
            "100%|██████████| 20/20 [03:55<00:00, 11.80s/it]\u001b[A\n",
            "\u001b[A"
          ],
          "name": "stderr"
        },
        {
          "output_type": "stream",
          "text": [
            "Model : Final_Emer_Iteration_3_cropsize_128_epochs_200\n"
          ],
          "name": "stdout"
        },
        {
          "output_type": "stream",
          "text": [
            "\n",
            "  0%|          | 0/20 [00:00<?, ?it/s]\u001b[A\n",
            "  5%|▌         | 1/20 [00:13<04:18, 13.58s/it]\u001b[A\n",
            " 10%|█         | 2/20 [00:25<03:55, 13.08s/it]\u001b[A\n",
            " 15%|█▌        | 3/20 [00:37<03:35, 12.68s/it]\u001b[A\n",
            " 20%|██        | 4/20 [00:49<03:18, 12.41s/it]\u001b[A\n",
            " 25%|██▌       | 5/20 [01:00<03:03, 12.22s/it]\u001b[A\n",
            " 30%|███       | 6/20 [01:12<02:49, 12.10s/it]\u001b[A\n",
            " 35%|███▌      | 7/20 [01:24<02:35, 12.00s/it]\u001b[A\n",
            " 40%|████      | 8/20 [01:36<02:23, 11.93s/it]\u001b[A\n",
            " 45%|████▌     | 9/20 [01:47<02:10, 11.87s/it]\u001b[A\n",
            " 50%|█████     | 10/20 [01:59<01:58, 11.85s/it]\u001b[A\n",
            " 55%|█████▌    | 11/20 [02:11<01:46, 11.81s/it]\u001b[A\n",
            " 60%|██████    | 12/20 [02:23<01:34, 11.77s/it]\u001b[A\n",
            " 65%|██████▌   | 13/20 [02:34<01:22, 11.75s/it]\u001b[A\n",
            " 70%|███████   | 14/20 [02:46<01:10, 11.74s/it]\u001b[A\n",
            " 75%|███████▌  | 15/20 [02:58<00:58, 11.70s/it]\u001b[A\n",
            " 80%|████████  | 16/20 [03:09<00:46, 11.73s/it]\u001b[A\n",
            " 85%|████████▌ | 17/20 [03:21<00:35, 11.72s/it]\u001b[A\n",
            " 90%|█████████ | 18/20 [03:33<00:23, 11.73s/it]\u001b[A\n",
            " 95%|█████████▌| 19/20 [03:45<00:11, 11.74s/it]\u001b[A\n",
            "100%|██████████| 20/20 [03:56<00:00, 11.77s/it]\u001b[A\n",
            "\u001b[A"
          ],
          "name": "stderr"
        },
        {
          "output_type": "stream",
          "text": [
            "Model : Final_Emer_Iteration_3_cropsize_128_epochs_200\n"
          ],
          "name": "stdout"
        },
        {
          "output_type": "stream",
          "text": [
            "\n",
            "  0%|          | 0/20 [00:00<?, ?it/s]\u001b[A\n",
            "  5%|▌         | 1/20 [00:13<04:16, 13.52s/it]\u001b[A\n",
            " 10%|█         | 2/20 [00:25<03:53, 13.00s/it]\u001b[A\n",
            " 15%|█▌        | 3/20 [00:37<03:34, 12.62s/it]\u001b[A\n",
            " 20%|██        | 4/20 [00:48<03:17, 12.34s/it]\u001b[A\n",
            " 25%|██▌       | 5/20 [01:00<03:02, 12.15s/it]\u001b[A\n",
            " 30%|███       | 6/20 [01:12<02:48, 12.02s/it]\u001b[A\n",
            " 35%|███▌      | 7/20 [01:23<02:35, 11.93s/it]\u001b[A\n",
            " 40%|████      | 8/20 [01:35<02:22, 11.87s/it]\u001b[A\n",
            " 45%|████▌     | 9/20 [01:47<02:09, 11.81s/it]\u001b[A\n",
            " 50%|█████     | 10/20 [01:58<01:57, 11.78s/it]\u001b[A\n",
            " 55%|█████▌    | 11/20 [02:10<01:45, 11.73s/it]\u001b[A\n",
            " 60%|██████    | 12/20 [02:22<01:33, 11.70s/it]\u001b[A\n",
            " 65%|██████▌   | 13/20 [02:33<01:21, 11.68s/it]\u001b[A\n",
            " 70%|███████   | 14/20 [02:45<01:10, 11.71s/it]\u001b[A\n",
            " 75%|███████▌  | 15/20 [02:57<00:58, 11.70s/it]\u001b[A\n",
            " 80%|████████  | 16/20 [03:09<00:46, 11.71s/it]\u001b[A\n",
            " 85%|████████▌ | 17/20 [03:20<00:35, 11.72s/it]\u001b[A\n",
            " 90%|█████████ | 18/20 [03:32<00:23, 11.71s/it]\u001b[A\n",
            " 95%|█████████▌| 19/20 [03:44<00:11, 11.73s/it]\u001b[A\n",
            "100%|██████████| 20/20 [03:56<00:00, 11.74s/it]\u001b[A\n",
            "\u001b[A"
          ],
          "name": "stderr"
        },
        {
          "output_type": "stream",
          "text": [
            "Model : Final_Emer_Iteration_3_cropsize_128_epochs_200\n"
          ],
          "name": "stdout"
        },
        {
          "output_type": "stream",
          "text": [
            "\n",
            "  0%|          | 0/20 [00:00<?, ?it/s]\u001b[A\n",
            "  5%|▌         | 1/20 [00:13<04:17, 13.57s/it]\u001b[A\n",
            " 10%|█         | 2/20 [00:25<03:54, 13.02s/it]\u001b[A\n",
            " 15%|█▌        | 3/20 [00:37<03:34, 12.63s/it]\u001b[A\n",
            " 20%|██        | 4/20 [00:48<03:17, 12.35s/it]\u001b[A\n",
            " 25%|██▌       | 5/20 [01:00<03:02, 12.15s/it]\u001b[A\n",
            " 30%|███       | 6/20 [01:12<02:48, 12.03s/it]\u001b[A\n",
            " 35%|███▌      | 7/20 [01:23<02:35, 11.93s/it]\u001b[A\n",
            " 40%|████      | 8/20 [01:35<02:22, 11.88s/it]\u001b[A\n",
            " 45%|████▌     | 9/20 [01:47<02:09, 11.81s/it]\u001b[A\n",
            " 50%|█████     | 10/20 [01:59<01:58, 11.80s/it]\u001b[A\n",
            " 55%|█████▌    | 11/20 [02:10<01:45, 11.76s/it]\u001b[A\n",
            " 60%|██████    | 12/20 [02:22<01:33, 11.75s/it]\u001b[A\n",
            " 65%|██████▌   | 13/20 [02:34<01:22, 11.72s/it]\u001b[A\n",
            " 70%|███████   | 14/20 [02:45<01:10, 11.73s/it]\u001b[A\n",
            " 75%|███████▌  | 15/20 [02:57<00:58, 11.69s/it]\u001b[A\n",
            " 80%|████████  | 16/20 [03:09<00:46, 11.73s/it]\u001b[A\n",
            " 85%|████████▌ | 17/20 [03:20<00:35, 11.71s/it]\u001b[A\n",
            " 90%|█████████ | 18/20 [03:32<00:23, 11.70s/it]\u001b[A\n",
            " 95%|█████████▌| 19/20 [03:44<00:11, 11.70s/it]\u001b[A\n",
            "100%|██████████| 20/20 [03:56<00:00, 11.73s/it]\u001b[A\n",
            "\u001b[A"
          ],
          "name": "stderr"
        },
        {
          "output_type": "stream",
          "text": [
            "Model : Final_Emer_Iteration_3_cropsize_128_epochs_200\n"
          ],
          "name": "stdout"
        },
        {
          "output_type": "stream",
          "text": [
            "\n",
            "  0%|          | 0/20 [00:00<?, ?it/s]\u001b[A\n",
            "  5%|▌         | 1/20 [00:13<04:19, 13.68s/it]\u001b[A\n",
            " 10%|█         | 2/20 [00:25<03:56, 13.12s/it]\u001b[A\n",
            " 15%|█▌        | 3/20 [00:37<03:35, 12.69s/it]\u001b[A\n",
            " 20%|██        | 4/20 [00:48<03:18, 12.40s/it]\u001b[A\n",
            " 25%|██▌       | 5/20 [01:00<03:03, 12.21s/it]\u001b[A\n",
            " 30%|███       | 6/20 [01:12<02:49, 12.07s/it]\u001b[A\n",
            " 35%|███▌      | 7/20 [01:24<02:35, 11.98s/it]\u001b[A\n",
            " 40%|████      | 8/20 [01:35<02:22, 11.91s/it]\u001b[A\n",
            " 45%|████▌     | 9/20 [01:47<02:10, 11.84s/it]\u001b[A\n",
            " 50%|█████     | 10/20 [01:59<01:58, 11.80s/it]\u001b[A\n",
            " 55%|█████▌    | 11/20 [02:10<01:45, 11.76s/it]\u001b[A\n",
            " 60%|██████    | 12/20 [02:22<01:33, 11.72s/it]\u001b[A\n",
            " 65%|██████▌   | 13/20 [02:34<01:21, 11.71s/it]\u001b[A\n",
            " 70%|███████   | 14/20 [02:46<01:10, 11.73s/it]\u001b[A\n",
            " 75%|███████▌  | 15/20 [02:57<00:58, 11.71s/it]\u001b[A\n",
            " 80%|████████  | 16/20 [03:09<00:46, 11.73s/it]\u001b[A\n",
            " 85%|████████▌ | 17/20 [03:21<00:35, 11.71s/it]\u001b[A\n",
            " 90%|█████████ | 18/20 [03:32<00:23, 11.70s/it]\u001b[A\n",
            " 95%|█████████▌| 19/20 [03:44<00:11, 11.70s/it]\u001b[A\n",
            "100%|██████████| 20/20 [03:56<00:00, 11.71s/it]\u001b[A\n",
            "\u001b[A"
          ],
          "name": "stderr"
        },
        {
          "output_type": "stream",
          "text": [
            "Model : Final_Emer_Iteration_3_cropsize_128_epochs_200\n"
          ],
          "name": "stdout"
        },
        {
          "output_type": "stream",
          "text": [
            "\n",
            "  0%|          | 0/20 [00:00<?, ?it/s]\u001b[A\n",
            "  5%|▌         | 1/20 [00:13<04:23, 13.89s/it]\u001b[A\n",
            " 10%|█         | 2/20 [00:25<03:58, 13.27s/it]\u001b[A\n",
            " 15%|█▌        | 3/20 [00:37<03:37, 12.79s/it]\u001b[A\n",
            " 20%|██        | 4/20 [00:49<03:19, 12.46s/it]\u001b[A\n",
            " 25%|██▌       | 5/20 [01:00<03:04, 12.28s/it]\u001b[A\n",
            " 30%|███       | 6/20 [01:12<02:49, 12.12s/it]\u001b[A\n",
            " 35%|███▌      | 7/20 [01:24<02:36, 12.01s/it]\u001b[A\n",
            " 40%|████      | 8/20 [01:36<02:22, 11.91s/it]\u001b[A\n",
            " 45%|████▌     | 9/20 [01:47<02:09, 11.81s/it]\u001b[A\n",
            " 50%|█████     | 10/20 [01:59<01:57, 11.78s/it]\u001b[A\n",
            " 55%|█████▌    | 11/20 [02:11<01:45, 11.74s/it]\u001b[A\n",
            " 60%|██████    | 12/20 [02:22<01:33, 11.70s/it]\u001b[A\n",
            " 65%|██████▌   | 13/20 [02:34<01:21, 11.68s/it]\u001b[A\n",
            " 70%|███████   | 14/20 [02:46<01:10, 11.69s/it]\u001b[A\n",
            " 75%|███████▌  | 15/20 [02:57<00:58, 11.67s/it]\u001b[A\n",
            " 80%|████████  | 16/20 [03:09<00:46, 11.70s/it]\u001b[A\n",
            " 85%|████████▌ | 17/20 [03:21<00:35, 11.69s/it]\u001b[A\n",
            " 90%|█████████ | 18/20 [03:32<00:23, 11.69s/it]\u001b[A\n",
            " 95%|█████████▌| 19/20 [03:44<00:11, 11.71s/it]\u001b[A\n",
            "100%|██████████| 20/20 [03:56<00:00, 11.72s/it]\u001b[A\n",
            "\u001b[A"
          ],
          "name": "stderr"
        }
      ]
    },
    {
      "cell_type": "code",
      "metadata": {
        "id": "9DN3lWemFFFf",
        "colab_type": "code",
        "colab": {}
      },
      "source": [
        "#Copiar todo a un Google Drive\n",
        "from google.colab import drive\n",
        "drive.mount('/gdrive', force_remount = True)\n",
        "\n",
        "%mkdir \"/gdrive/My Drive/big_scene_results\" #o el directorio que se quiera\n",
        "%cp -r results \"/gdrive/My Drive/big_scene_results\"\n"
      ],
      "execution_count": 0,
      "outputs": []
    }
  ]
}